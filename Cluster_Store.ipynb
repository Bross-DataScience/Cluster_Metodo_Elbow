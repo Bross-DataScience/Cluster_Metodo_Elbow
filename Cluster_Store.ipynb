{
  "nbformat": 4,
  "nbformat_minor": 0,
  "metadata": {
    "colab": {
      "name": "Cluster_Store.ipynb",
      "provenance": [],
      "mount_file_id": "1BlCq8cD1_a3BcWWnw4LDuS53aMnTfMYC",
      "authorship_tag": "ABX9TyPPkxIYNZpoLaDGOzIGZI6g",
      "include_colab_link": true
    },
    "kernelspec": {
      "name": "python3",
      "display_name": "Python 3"
    },
    "language_info": {
      "name": "python"
    }
  },
  "cells": [
    {
      "cell_type": "markdown",
      "metadata": {
        "id": "view-in-github",
        "colab_type": "text"
      },
      "source": [
        "<a href=\"https://colab.research.google.com/github/Bross-DataScience/Cluster_Metodo_Elbow/blob/main/Cluster_Store.ipynb\" target=\"_parent\"><img src=\"https://colab.research.google.com/assets/colab-badge.svg\" alt=\"Open In Colab\"/></a>"
      ]
    },
    {
      "cell_type": "code",
      "metadata": {
        "id": "iq52QCBwlnmp"
      },
      "source": [
        "# Importando Bibliotecas\n",
        "import pandas as pd\n",
        "import numpy as np\n",
        "import matplotlib.pyplot as plt\n",
        "%matplotlib inline"
      ],
      "execution_count": 1,
      "outputs": []
    },
    {
      "cell_type": "code",
      "metadata": {
        "id": "shteL9I2rR0D"
      },
      "source": [
        "data = pd.read_csv('/content/drive/MyDrive/Datasets/store.csv')   # Importando arquivo CSV do Google Drive"
      ],
      "execution_count": 2,
      "outputs": []
    },
    {
      "cell_type": "code",
      "metadata": {
        "colab": {
          "base_uri": "https://localhost:8080/",
          "height": 204
        },
        "id": "5u7QO_4Graag",
        "outputId": "037f6691-1f29-41a4-b977-fb3838fe7e23"
      },
      "source": [
        "data.head() # Listando os 05 primeiros registros do Dataset"
      ],
      "execution_count": 4,
      "outputs": [
        {
          "output_type": "execute_result",
          "data": {
            "text/html": [
              "<div>\n",
              "<style scoped>\n",
              "    .dataframe tbody tr th:only-of-type {\n",
              "        vertical-align: middle;\n",
              "    }\n",
              "\n",
              "    .dataframe tbody tr th {\n",
              "        vertical-align: top;\n",
              "    }\n",
              "\n",
              "    .dataframe thead th {\n",
              "        text-align: right;\n",
              "    }\n",
              "</style>\n",
              "<table border=\"1\" class=\"dataframe\">\n",
              "  <thead>\n",
              "    <tr style=\"text-align: right;\">\n",
              "      <th></th>\n",
              "      <th>CustomerID</th>\n",
              "      <th>Genre</th>\n",
              "      <th>Age</th>\n",
              "      <th>Annual Income (k$)</th>\n",
              "      <th>Spending Score (1-100)</th>\n",
              "    </tr>\n",
              "  </thead>\n",
              "  <tbody>\n",
              "    <tr>\n",
              "      <th>0</th>\n",
              "      <td>1</td>\n",
              "      <td>Male</td>\n",
              "      <td>19</td>\n",
              "      <td>15</td>\n",
              "      <td>39</td>\n",
              "    </tr>\n",
              "    <tr>\n",
              "      <th>1</th>\n",
              "      <td>2</td>\n",
              "      <td>Male</td>\n",
              "      <td>21</td>\n",
              "      <td>15</td>\n",
              "      <td>81</td>\n",
              "    </tr>\n",
              "    <tr>\n",
              "      <th>2</th>\n",
              "      <td>3</td>\n",
              "      <td>Female</td>\n",
              "      <td>20</td>\n",
              "      <td>16</td>\n",
              "      <td>6</td>\n",
              "    </tr>\n",
              "    <tr>\n",
              "      <th>3</th>\n",
              "      <td>4</td>\n",
              "      <td>Female</td>\n",
              "      <td>23</td>\n",
              "      <td>16</td>\n",
              "      <td>77</td>\n",
              "    </tr>\n",
              "    <tr>\n",
              "      <th>4</th>\n",
              "      <td>5</td>\n",
              "      <td>Female</td>\n",
              "      <td>31</td>\n",
              "      <td>17</td>\n",
              "      <td>40</td>\n",
              "    </tr>\n",
              "  </tbody>\n",
              "</table>\n",
              "</div>"
            ],
            "text/plain": [
              "   CustomerID   Genre  Age  Annual Income (k$)  Spending Score (1-100)\n",
              "0           1    Male   19                  15                      39\n",
              "1           2    Male   21                  15                      81\n",
              "2           3  Female   20                  16                       6\n",
              "3           4  Female   23                  16                      77\n",
              "4           5  Female   31                  17                      40"
            ]
          },
          "metadata": {},
          "execution_count": 4
        }
      ]
    },
    {
      "cell_type": "code",
      "metadata": {
        "colab": {
          "base_uri": "https://localhost:8080/"
        },
        "id": "4QUe7wmTrbih",
        "outputId": "195fc482-5ec9-4997-989c-7a9c65d391f8"
      },
      "source": [
        "data.columns # Listando as Colunas do Dataset"
      ],
      "execution_count": 5,
      "outputs": [
        {
          "output_type": "execute_result",
          "data": {
            "text/plain": [
              "Index(['CustomerID', 'Genre', 'Age', 'Annual Income (k$)',\n",
              "       'Spending Score (1-100)'],\n",
              "      dtype='object')"
            ]
          },
          "metadata": {},
          "execution_count": 5
        }
      ]
    },
    {
      "cell_type": "code",
      "metadata": {
        "id": "enXY2hE8rjGx"
      },
      "source": [
        "data.columns=['IdCliente', 'Genero', 'Idade', 'Renda_Anual', 'Nivel_Gasto_Anual(1-100)'] # Renomeando as Colunas no Dataset"
      ],
      "execution_count": 6,
      "outputs": []
    },
    {
      "cell_type": "code",
      "metadata": {
        "colab": {
          "base_uri": "https://localhost:8080/",
          "height": 204
        },
        "id": "t6Typtflr1px",
        "outputId": "b8c142ff-1724-4a7f-e5e5-fe70b9f0fdf3"
      },
      "source": [
        "data.head() # Listando as Colunas Renomeadas"
      ],
      "execution_count": 7,
      "outputs": [
        {
          "output_type": "execute_result",
          "data": {
            "text/html": [
              "<div>\n",
              "<style scoped>\n",
              "    .dataframe tbody tr th:only-of-type {\n",
              "        vertical-align: middle;\n",
              "    }\n",
              "\n",
              "    .dataframe tbody tr th {\n",
              "        vertical-align: top;\n",
              "    }\n",
              "\n",
              "    .dataframe thead th {\n",
              "        text-align: right;\n",
              "    }\n",
              "</style>\n",
              "<table border=\"1\" class=\"dataframe\">\n",
              "  <thead>\n",
              "    <tr style=\"text-align: right;\">\n",
              "      <th></th>\n",
              "      <th>IdCliente</th>\n",
              "      <th>Genero</th>\n",
              "      <th>Idade</th>\n",
              "      <th>Renda_Anual</th>\n",
              "      <th>Nivel_Gasto_Anual(1-100)</th>\n",
              "    </tr>\n",
              "  </thead>\n",
              "  <tbody>\n",
              "    <tr>\n",
              "      <th>0</th>\n",
              "      <td>1</td>\n",
              "      <td>Male</td>\n",
              "      <td>19</td>\n",
              "      <td>15</td>\n",
              "      <td>39</td>\n",
              "    </tr>\n",
              "    <tr>\n",
              "      <th>1</th>\n",
              "      <td>2</td>\n",
              "      <td>Male</td>\n",
              "      <td>21</td>\n",
              "      <td>15</td>\n",
              "      <td>81</td>\n",
              "    </tr>\n",
              "    <tr>\n",
              "      <th>2</th>\n",
              "      <td>3</td>\n",
              "      <td>Female</td>\n",
              "      <td>20</td>\n",
              "      <td>16</td>\n",
              "      <td>6</td>\n",
              "    </tr>\n",
              "    <tr>\n",
              "      <th>3</th>\n",
              "      <td>4</td>\n",
              "      <td>Female</td>\n",
              "      <td>23</td>\n",
              "      <td>16</td>\n",
              "      <td>77</td>\n",
              "    </tr>\n",
              "    <tr>\n",
              "      <th>4</th>\n",
              "      <td>5</td>\n",
              "      <td>Female</td>\n",
              "      <td>31</td>\n",
              "      <td>17</td>\n",
              "      <td>40</td>\n",
              "    </tr>\n",
              "  </tbody>\n",
              "</table>\n",
              "</div>"
            ],
            "text/plain": [
              "   IdCliente  Genero  Idade  Renda_Anual  Nivel_Gasto_Anual(1-100)\n",
              "0          1    Male     19           15                        39\n",
              "1          2    Male     21           15                        81\n",
              "2          3  Female     20           16                         6\n",
              "3          4  Female     23           16                        77\n",
              "4          5  Female     31           17                        40"
            ]
          },
          "metadata": {},
          "execution_count": 7
        }
      ]
    },
    {
      "cell_type": "code",
      "metadata": {
        "id": "4AI0KuOtr3li"
      },
      "source": [
        "data.set_index('IdCliente', inplace=True) # Alterando o Indice do Dataset, que passa a Ser a Coluna IdCliente"
      ],
      "execution_count": 8,
      "outputs": []
    },
    {
      "cell_type": "code",
      "metadata": {
        "colab": {
          "base_uri": "https://localhost:8080/",
          "height": 235
        },
        "id": "p6DUFkCRtjCc",
        "outputId": "71e97338-d2b4-4220-df84-27729845bf06"
      },
      "source": [
        "data.head() # Verificando o Novo Indice do Dataset"
      ],
      "execution_count": 9,
      "outputs": [
        {
          "output_type": "execute_result",
          "data": {
            "text/html": [
              "<div>\n",
              "<style scoped>\n",
              "    .dataframe tbody tr th:only-of-type {\n",
              "        vertical-align: middle;\n",
              "    }\n",
              "\n",
              "    .dataframe tbody tr th {\n",
              "        vertical-align: top;\n",
              "    }\n",
              "\n",
              "    .dataframe thead th {\n",
              "        text-align: right;\n",
              "    }\n",
              "</style>\n",
              "<table border=\"1\" class=\"dataframe\">\n",
              "  <thead>\n",
              "    <tr style=\"text-align: right;\">\n",
              "      <th></th>\n",
              "      <th>Genero</th>\n",
              "      <th>Idade</th>\n",
              "      <th>Renda_Anual</th>\n",
              "      <th>Nivel_Gasto_Anual(1-100)</th>\n",
              "    </tr>\n",
              "    <tr>\n",
              "      <th>IdCliente</th>\n",
              "      <th></th>\n",
              "      <th></th>\n",
              "      <th></th>\n",
              "      <th></th>\n",
              "    </tr>\n",
              "  </thead>\n",
              "  <tbody>\n",
              "    <tr>\n",
              "      <th>1</th>\n",
              "      <td>Male</td>\n",
              "      <td>19</td>\n",
              "      <td>15</td>\n",
              "      <td>39</td>\n",
              "    </tr>\n",
              "    <tr>\n",
              "      <th>2</th>\n",
              "      <td>Male</td>\n",
              "      <td>21</td>\n",
              "      <td>15</td>\n",
              "      <td>81</td>\n",
              "    </tr>\n",
              "    <tr>\n",
              "      <th>3</th>\n",
              "      <td>Female</td>\n",
              "      <td>20</td>\n",
              "      <td>16</td>\n",
              "      <td>6</td>\n",
              "    </tr>\n",
              "    <tr>\n",
              "      <th>4</th>\n",
              "      <td>Female</td>\n",
              "      <td>23</td>\n",
              "      <td>16</td>\n",
              "      <td>77</td>\n",
              "    </tr>\n",
              "    <tr>\n",
              "      <th>5</th>\n",
              "      <td>Female</td>\n",
              "      <td>31</td>\n",
              "      <td>17</td>\n",
              "      <td>40</td>\n",
              "    </tr>\n",
              "  </tbody>\n",
              "</table>\n",
              "</div>"
            ],
            "text/plain": [
              "           Genero  Idade  Renda_Anual  Nivel_Gasto_Anual(1-100)\n",
              "IdCliente                                                      \n",
              "1            Male     19           15                        39\n",
              "2            Male     21           15                        81\n",
              "3          Female     20           16                         6\n",
              "4          Female     23           16                        77\n",
              "5          Female     31           17                        40"
            ]
          },
          "metadata": {},
          "execution_count": 9
        }
      ]
    },
    {
      "cell_type": "markdown",
      "metadata": {
        "id": "ea1kf5aZtnMj"
      },
      "source": [
        "#### Desse DataSet iremos fazer uso de apenas duas colunas - Renda_Anual, Nivel_Gasto_Anual(1-100), sendo assim iremos criar um novo DataFrame com apenas essas duas colunas."
      ]
    },
    {
      "cell_type": "code",
      "metadata": {
        "id": "YcqavkOYuIcx"
      },
      "source": [
        "df = data[['Renda_Anual', 'Nivel_Gasto_Anual(1-100)']]  # Gerando um novo Dataset e Armazenado na variavel df"
      ],
      "execution_count": 10,
      "outputs": []
    },
    {
      "cell_type": "code",
      "metadata": {
        "colab": {
          "base_uri": "https://localhost:8080/",
          "height": 235
        },
        "id": "2zUpK8yKujRv",
        "outputId": "01073cd9-b6b7-4ef5-9394-c58891efa00d"
      },
      "source": [
        "df.head() # Listando as 05 primeiras linhas do Dataset df"
      ],
      "execution_count": 12,
      "outputs": [
        {
          "output_type": "execute_result",
          "data": {
            "text/html": [
              "<div>\n",
              "<style scoped>\n",
              "    .dataframe tbody tr th:only-of-type {\n",
              "        vertical-align: middle;\n",
              "    }\n",
              "\n",
              "    .dataframe tbody tr th {\n",
              "        vertical-align: top;\n",
              "    }\n",
              "\n",
              "    .dataframe thead th {\n",
              "        text-align: right;\n",
              "    }\n",
              "</style>\n",
              "<table border=\"1\" class=\"dataframe\">\n",
              "  <thead>\n",
              "    <tr style=\"text-align: right;\">\n",
              "      <th></th>\n",
              "      <th>Renda_Anual</th>\n",
              "      <th>Nivel_Gasto_Anual(1-100)</th>\n",
              "    </tr>\n",
              "    <tr>\n",
              "      <th>IdCliente</th>\n",
              "      <th></th>\n",
              "      <th></th>\n",
              "    </tr>\n",
              "  </thead>\n",
              "  <tbody>\n",
              "    <tr>\n",
              "      <th>1</th>\n",
              "      <td>15</td>\n",
              "      <td>39</td>\n",
              "    </tr>\n",
              "    <tr>\n",
              "      <th>2</th>\n",
              "      <td>15</td>\n",
              "      <td>81</td>\n",
              "    </tr>\n",
              "    <tr>\n",
              "      <th>3</th>\n",
              "      <td>16</td>\n",
              "      <td>6</td>\n",
              "    </tr>\n",
              "    <tr>\n",
              "      <th>4</th>\n",
              "      <td>16</td>\n",
              "      <td>77</td>\n",
              "    </tr>\n",
              "    <tr>\n",
              "      <th>5</th>\n",
              "      <td>17</td>\n",
              "      <td>40</td>\n",
              "    </tr>\n",
              "  </tbody>\n",
              "</table>\n",
              "</div>"
            ],
            "text/plain": [
              "           Renda_Anual  Nivel_Gasto_Anual(1-100)\n",
              "IdCliente                                       \n",
              "1                   15                        39\n",
              "2                   15                        81\n",
              "3                   16                         6\n",
              "4                   16                        77\n",
              "5                   17                        40"
            ]
          },
          "metadata": {},
          "execution_count": 12
        }
      ]
    },
    {
      "cell_type": "markdown",
      "metadata": {
        "id": "UkCzHH4JukPR"
      },
      "source": [
        "#### Agora iremos Plotar um gráfico de Dispersão para vermos melhor esses dados"
      ]
    },
    {
      "cell_type": "code",
      "metadata": {
        "colab": {
          "base_uri": "https://localhost:8080/",
          "height": 374
        },
        "id": "ewiGSsNevLHx",
        "outputId": "240129da-4e45-46be-e142-3cea5e3312b9"
      },
      "source": [
        "plt.figure(figsize=(12,6))  # Configurando o Tamanho do Gráfico\n",
        "plt.scatter(df['Renda_Anual'], df['Nivel_Gasto_Anual(1-100)']) # Informando as Colunas que serão Plotadas\n",
        "plt.xlabel('Clusters') # Título eixo X\n",
        "plt.ylabel('Variations') # Título eixo Y\n",
        "plt.show()"
      ],
      "execution_count": 13,
      "outputs": [
        {
          "output_type": "display_data",
          "data": {
            "image/png": "[encoded data removed]",
            "text/plain": [
              "<Figure size 864x432 with 1 Axes>"
            ]
          },
          "metadata": {
            "needs_background": "light"
          }
        }
      ]
    },
    {
      "cell_type": "markdown",
      "metadata": {
        "id": "aQlOPDkGvWNx"
      },
      "source": [
        "#### Agora que já temos uma boa visão de como estão espalhados os dados, temos que agrupar esses dados separando-os em Clusters e para isso vamos utilizar o método Elbow(Cotovelo)"
      ]
    },
    {
      "cell_type": "code",
      "metadata": {
        "id": "5aOpVAP1wUQ7"
      },
      "source": [
        "from sklearn.cluster import KMeans # Importando Biblioteca"
      ],
      "execution_count": 14,
      "outputs": []
    },
    {
      "cell_type": "code",
      "metadata": {
        "id": "5lR2Fj9owmlL"
      },
      "source": [
        "X = df.values # Armazenando os Valores de Df na Variável X"
      ],
      "execution_count": 15,
      "outputs": []
    },
    {
      "cell_type": "code",
      "metadata": {
        "colab": {
          "base_uri": "https://localhost:8080/"
        },
        "id": "Z-t7-ljSwtcR",
        "outputId": "1d28f8d5-36f7-4a29-a7d3-dbaa61d5294a"
      },
      "source": [
        "X.shape # Verificando o Shape de X"
      ],
      "execution_count": 22,
      "outputs": [
        {
          "output_type": "execute_result",
          "data": {
            "text/plain": [
              "(200, 2)"
            ]
          },
          "metadata": {},
          "execution_count": 22
        }
      ]
    },
    {
      "cell_type": "markdown",
      "metadata": {
        "id": "NoQE90dnzMFp"
      },
      "source": [
        "#### Agora precisaremos utilizar o KMeans que irá nos informar a quantidade ideal de clusters, para posteriomente aplicarmos no modelo"
      ]
    },
    {
      "cell_type": "code",
      "metadata": {
        "colab": {
          "base_uri": "https://localhost:8080/",
          "height": 404
        },
        "id": "RSXQ7MPGwuRQ",
        "outputId": "c87b50d1-cdd0-4de5-a67c-cc3a5475c1df"
      },
      "source": [
        "variations = []\n",
        "for i in range(1, 10):\n",
        "  kmeans = KMeans(n_clusters=i, init='k-means++')\n",
        "  kmeans.fit(X)\n",
        "  variations.append(kmeans.inertia_)\n",
        "\n",
        "plt.figure(figsize=(12,6))\n",
        "plt.plot(range(1, 10), variations)\n",
        "plt.title('Método Cotovelo (Elbow)') \n",
        "plt.xlabel('Clusters')\n",
        "plt.ylabel('Variações')\n",
        "plt.show()"
      ],
      "execution_count": 33,
      "outputs": [
        {
          "output_type": "display_data",
          "data": {
            "image/png": "[encoded data removed]",
            "text/plain": [
              "<Figure size 864x432 with 1 Axes>"
            ]
          },
          "metadata": {
            "needs_background": "light"
          }
        }
      ]
    },
    {
      "cell_type": "markdown",
      "metadata": {
        "id": "LlQh74_UyUiL"
      },
      "source": [
        "#### No gráfico acima podemos perceber que a taxa de variação começa a ficar mais regular a partir do 5 então vamos adotar 5 como o números de clusters ideal"
      ]
    },
    {
      "cell_type": "code",
      "metadata": {
        "id": "CS9IoOTf1c1D"
      },
      "source": [
        "kmeans_final = KMeans(n_clusters=5) # Setando a Quantidade de Clusters "
      ],
      "execution_count": 25,
      "outputs": []
    },
    {
      "cell_type": "code",
      "metadata": {
        "colab": {
          "base_uri": "https://localhost:8080/"
        },
        "id": "QAHw_3zI270k",
        "outputId": "3204ac4d-f4b3-42df-842d-f89a3c2b698e"
      },
      "source": [
        "kmeans_final.fit(X) # Rodando Predição de Clusters de acordo com a quantidade ideal 5"
      ],
      "execution_count": 26,
      "outputs": [
        {
          "output_type": "execute_result",
          "data": {
            "text/plain": [
              "KMeans(algorithm='auto', copy_x=True, init='k-means++', max_iter=300,\n",
              "       n_clusters=5, n_init=10, n_jobs=None, precompute_distances='auto',\n",
              "       random_state=None, tol=0.0001, verbose=0)"
            ]
          },
          "metadata": {},
          "execution_count": 26
        }
      ]
    },
    {
      "cell_type": "code",
      "metadata": {
        "id": "kpRHK--C3ISx"
      },
      "source": [
        "cluster_pred = kmeans_final.predict(X) # Fazendo a Predição "
      ],
      "execution_count": 27,
      "outputs": []
    },
    {
      "cell_type": "code",
      "metadata": {
        "id": "oODHlnCL3NFx"
      },
      "source": [
        "cluster_centro = kmeans_final.cluster_centers_ # Pegando os Centros de Cada Cluster"
      ],
      "execution_count": 28,
      "outputs": []
    },
    {
      "cell_type": "code",
      "metadata": {
        "colab": {
          "base_uri": "https://localhost:8080/"
        },
        "id": "TKh1_6fx3ULx",
        "outputId": "970b1db6-da4e-4c99-c75b-6c45d817c461"
      },
      "source": [
        "cluster_centro # Visualizando os Pontos dos Cluster de Centro"
      ],
      "execution_count": 29,
      "outputs": [
        {
          "output_type": "execute_result",
          "data": {
            "text/plain": [
              "array([[55.2962963 , 49.51851852],\n",
              "       [26.30434783, 20.91304348],\n",
              "       [86.53846154, 82.12820513],\n",
              "       [88.2       , 17.11428571],\n",
              "       [25.72727273, 79.36363636]])"
            ]
          },
          "metadata": {},
          "execution_count": 29
        }
      ]
    },
    {
      "cell_type": "code",
      "metadata": {
        "colab": {
          "base_uri": "https://localhost:8080/",
          "height": 404
        },
        "id": "sHMgrh2E3bmB",
        "outputId": "104e81dc-e758-4686-8a6e-4825f4efa0ce"
      },
      "source": [
        "plt.figure(figsize=(12,6))\n",
        "plt.scatter(X[cluster_pred==0, 0], X[cluster_pred==0, 1], s=100, label='Cluster 1 - Cliente Padrão')\n",
        "plt.scatter(X[cluster_pred==1, 0], X[cluster_pred==1, 1], s=100, label='Cluster 2 - Cliente Econômico')\n",
        "plt.scatter(X[cluster_pred==2, 0], X[cluster_pred==2, 1], s=100, label='Cluster 3 - Clinte Alvo')\n",
        "plt.scatter(X[cluster_pred==3, 0], X[cluster_pred==3, 1], s=100, label='Cluster 4 - Cliente Prudente')\n",
        "plt.scatter(X[cluster_pred==4, 0], X[cluster_pred==4, 1], s=100, label='Cluster 5 - Cliente Inconsequente')\n",
        "plt.scatter(cluster_centro[:,0], cluster_centro[:,1], marker='+', s=180, c='black')\n",
        "plt.title('Clusters de Clientes')\n",
        "plt.xlabel('Renda Anual $')\n",
        "plt.ylabel('Nível de Gasto $')\n",
        "plt.legend()\n",
        "plt.show()"
      ],
      "execution_count": 35,
      "outputs": [
        {
          "output_type": "display_data",
          "data": {
            "image/png": "[encoded data removed]",
            "text/plain": [
              "<Figure size 864x432 with 1 Axes>"
            ]
          },
          "metadata": {
            "needs_background": "light"
          }
        }
      ]
    },
    {
      "cell_type": "markdown",
      "metadata": {
        "id": "GO18FWQM3d9C"
      },
      "source": [
        "#### Agora temos uma boa visão de como estão segregados nossos clientes e assim podemos personalizar nossos produtos/serviços de acordo com as características de cada cliente.\n"
      ]
    }
  ]
}